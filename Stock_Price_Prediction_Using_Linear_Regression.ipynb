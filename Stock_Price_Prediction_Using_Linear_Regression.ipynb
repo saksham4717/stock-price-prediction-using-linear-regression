{
  "nbformat": 4,
  "nbformat_minor": 0,
  "metadata": {
    "colab": {
      "name": "Stock Price Prediction Using Linear Regression.ipynb",
      "provenance": [],
      "collapsed_sections": []
    },
    "kernelspec": {
      "name": "python3",
      "display_name": "Python 3"
    },
    "language_info": {
      "name": "python"
    }
  },
  "cells": [
    {
      "cell_type": "markdown",
      "metadata": {
        "id": "11BjMBmpSb6T"
      },
      "source": [
        "Microtask 1: 12"
      ]
    },
    {
      "cell_type": "markdown",
      "metadata": {
        "id": "I1-yvVLESkXm"
      },
      "source": [
        "Microtask 2: -"
      ]
    },
    {
      "cell_type": "markdown",
      "metadata": {
        "id": "1aeYlMQsSmhW"
      },
      "source": [
        "Microtask 3: LinearRegression"
      ]
    },
    {
      "cell_type": "markdown",
      "metadata": {
        "id": "WImFL_HNSo8y"
      },
      "source": [
        "Microtask 4"
      ]
    },
    {
      "cell_type": "code",
      "metadata": {
        "id": "QIEPVDckNrYf"
      },
      "source": [
        "import quandl, math\n",
        "import pandas as pd\n",
        "import numpy as np"
      ],
      "execution_count": null,
      "outputs": []
    },
    {
      "cell_type": "code",
      "metadata": {
        "id": "B8fUlUrFN3hc"
      },
      "source": [
        "df = quandl.get(\"EOD/MSFT\", authtoken=\"bxCrhtLx4V9Djw8mhNZC\")\n",
        "\n",
        "df = df[['Adj_Open', 'Adj_High', 'Adj_Low', 'Adj_Close', 'Adj_Volume']]\n",
        "\n",
        "df['HL_PCT'] = (df['Adj_High'] - df['Adj_Low']) / df['Adj_Close'] * 100.0\n",
        "\n",
        "df['PCT_change'] = (df['Adj_Close'] - df['Adj_Open']) / df['Adj_Open'] * 100.0\n",
        "\n",
        "df = df[['Adj_Close', 'HL_PCT', 'PCT_change', 'Adj_Volume']]"
      ],
      "execution_count": null,
      "outputs": []
    },
    {
      "cell_type": "code",
      "metadata": {
        "id": "zJs7C1UPN6Pz"
      },
      "source": [
        "from sklearn.model_selection import train_test_split\n",
        "from sklearn.metrics import mean_squared_error\n",
        "from sklearn.linear_model import LinearRegression\n",
        "from sklearn import preprocessing, svm\n",
        "\n",
        "forecast_col = 'Adj_Close'\n",
        "df.fillna(value = -99999, inplace = True)\n",
        "forecast_out = int(math.ceil(0.01 * len(df)))"
      ],
      "execution_count": null,
      "outputs": []
    },
    {
      "cell_type": "code",
      "metadata": {
        "id": "I35tF8-yN_j3"
      },
      "source": [
        "df['label'] = df[forecast_col].shift(-forecast_out)\n",
        "\n",
        "df.dropna(inplace=True)\n",
        "\n",
        "X = np.array(df.drop(['label'], 1))\n",
        "y = np.array(df['label'])\n",
        "\n",
        "X = preprocessing.scale(X)\n",
        "\n",
        "X_train, X_test, y_train, y_test = train_test_split(X, y, test_size=0.2)"
      ],
      "execution_count": null,
      "outputs": []
    },
    {
      "cell_type": "code",
      "metadata": {
        "id": "QBApE-BhOBjI"
      },
      "source": [
        "#Calculate RME\n",
        "reg = LinearRegression()\n",
        "reg = reg.fit(X, y)\n",
        "Y_pred = reg.predict(X)\n",
        "mse = mean_squared_error(y, Y_pred)\n",
        "\n",
        "print(mse)"
      ],
      "execution_count": null,
      "outputs": []
    },
    {
      "cell_type": "markdown",
      "metadata": {
        "id": "RQmWVkaHTDv1"
      },
      "source": [
        "Microtask 5:\n",
        "\n",
        "MSE\n",
        "to_numpy\n",
        "Both\n",
        "Stock markets"
      ]
    }
  ]
}